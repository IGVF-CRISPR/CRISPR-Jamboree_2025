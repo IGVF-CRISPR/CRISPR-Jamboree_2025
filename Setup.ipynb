{
 "cells": [
  {
   "cell_type": "markdown",
   "id": "5a60d392-39ff-4fab-b4a9-dad82fdac8c1",
   "metadata": {},
   "source": [
    "### Setup"
   ]
  },
  {
   "cell_type": "code",
   "execution_count": null,
   "id": "d5f22c9f-021d-43b7-ba01-f61690e34f44",
   "metadata": {},
   "outputs": [],
   "source": [
    "%%bash\n",
    "## download from dropbox \n",
    "curl -L \"https://www.dropbox.com/scl/fi/qhi32qk5lyrmn2qx1b95l/jamboree_task.zip?rlkey=djznpkmo8t1gany52s6e4943x&st=nzv5ptup&dl=1\" -o jamboree_task.zip && unzip jamboree_task.zip\n",
    "\n",
    "## set up environment\n",
    "conda init\n",
    "source ~/.bashrc\n",
    "conda activate /opt/micromamba/\n",
    "\n",
    "conda create -n perturbo_env -y\n",
    "conda activate perturbo_env\n",
    "##\n",
    "pip install ~/jamboree_task/inference/perturbo-0.0.1-py3-none-any.whl --force-reinstall\n",
    "conda install -c conda-forge h5py\n",
    "conda deactivate\n"
   ]
  },
  {
   "cell_type": "code",
   "execution_count": null,
   "id": "0e9eb38f-1df3-4c8b-813f-fdcb7fac43df",
   "metadata": {},
   "outputs": [],
   "source": []
  }
 ],
 "metadata": {
  "kernelspec": {
   "display_name": "Python 3 (ipykernel)",
   "language": "python",
   "name": "python3"
  },
  "language_info": {
   "codemirror_mode": {
    "name": "ipython",
    "version": 3
   },
   "file_extension": ".py",
   "mimetype": "text/x-python",
   "name": "python",
   "nbconvert_exporter": "python",
   "pygments_lexer": "ipython3",
   "version": "3.12.8"
  }
 },
 "nbformat": 4,
 "nbformat_minor": 5
}
